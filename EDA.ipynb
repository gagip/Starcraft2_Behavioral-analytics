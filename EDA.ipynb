{
  "nbformat": 4,
  "nbformat_minor": 0,
  "metadata": {
    "colab": {
      "name": "EDA.ipynb",
      "provenance": [],
      "collapsed_sections": [],
      "mount_file_id": "1PbDvOkqV-_hCbu1TUFmtGoHOSVkXjJg9",
      "authorship_tag": "ABX9TyPq5uBN5/DMEGWonlTVctmM",
      "include_colab_link": true
    },
    "kernelspec": {
      "name": "python3",
      "display_name": "Python 3"
    },
    "accelerator": "GPU"
  },
  "cells": [
    {
      "cell_type": "markdown",
      "metadata": {
        "id": "view-in-github",
        "colab_type": "text"
      },
      "source": [
        "<a href=\"https://colab.research.google.com/github/gagip/Starcraft2_Behavioral-analytics/blob/master/EDA.ipynb\" target=\"_parent\"><img src=\"https://colab.research.google.com/assets/colab-badge.svg\" alt=\"Open In Colab\"/></a>"
      ]
    },
    {
      "cell_type": "markdown",
      "metadata": {
        "id": "hthI-BifnwrH",
        "colab_type": "text"
      },
      "source": [
        "# 데이터 Import"
      ]
    },
    {
      "cell_type": "code",
      "metadata": {
        "id": "2n94BfZYk5sK",
        "colab_type": "code",
        "outputId": "c7c1ff85-8375-43b1-8418-cf170a52b6b4",
        "colab": {
          "base_uri": "https://localhost:8080/",
          "height": 73
        }
      },
      "source": [
        "import numpy as np \n",
        "import pandas as pd\n",
        "import matplotlib.pyplot as plt\n",
        "import seaborn as sns\n",
        "import dask.dataframe as dd # 메모리 제한을 막기 위해 가상 데이터 프레임 사용"
      ],
      "execution_count": 1,
      "outputs": [
        {
          "output_type": "stream",
          "text": [
            "/usr/local/lib/python3.6/dist-packages/statsmodels/tools/_testing.py:19: FutureWarning: pandas.util.testing is deprecated. Use the functions in the public API at pandas.testing instead.\n",
            "  import pandas.util.testing as tm\n"
          ],
          "name": "stderr"
        }
      ]
    },
    {
      "cell_type": "code",
      "metadata": {
        "id": "hKmcOxnOnrsh",
        "colab_type": "code",
        "colab": {
          "base_uri": "https://localhost:8080/",
          "height": 204
        },
        "outputId": "2b6969f7-e8c6-47f6-d70f-19bd45233407"
      },
      "source": [
        "train = dd.read_csv(\"/content/drive/My Drive/데이터과학/프로젝트/게임행동/data/train.csv\")\n",
        "train.head()"
      ],
      "execution_count": 2,
      "outputs": [
        {
          "output_type": "execute_result",
          "data": {
            "text/html": [
              "<div>\n",
              "<style scoped>\n",
              "    .dataframe tbody tr th:only-of-type {\n",
              "        vertical-align: middle;\n",
              "    }\n",
              "\n",
              "    .dataframe tbody tr th {\n",
              "        vertical-align: top;\n",
              "    }\n",
              "\n",
              "    .dataframe thead th {\n",
              "        text-align: right;\n",
              "    }\n",
              "</style>\n",
              "<table border=\"1\" class=\"dataframe\">\n",
              "  <thead>\n",
              "    <tr style=\"text-align: right;\">\n",
              "      <th></th>\n",
              "      <th>game_id</th>\n",
              "      <th>winner</th>\n",
              "      <th>time</th>\n",
              "      <th>player</th>\n",
              "      <th>species</th>\n",
              "      <th>event</th>\n",
              "      <th>event_contents</th>\n",
              "    </tr>\n",
              "  </thead>\n",
              "  <tbody>\n",
              "    <tr>\n",
              "      <th>0</th>\n",
              "      <td>0</td>\n",
              "      <td>1</td>\n",
              "      <td>0.00</td>\n",
              "      <td>0</td>\n",
              "      <td>T</td>\n",
              "      <td>Camera</td>\n",
              "      <td>at (145.25, 21.5078125)</td>\n",
              "    </tr>\n",
              "    <tr>\n",
              "      <th>1</th>\n",
              "      <td>0</td>\n",
              "      <td>1</td>\n",
              "      <td>0.00</td>\n",
              "      <td>1</td>\n",
              "      <td>T</td>\n",
              "      <td>Camera</td>\n",
              "      <td>at (22.75, 147.0078125)</td>\n",
              "    </tr>\n",
              "    <tr>\n",
              "      <th>2</th>\n",
              "      <td>0</td>\n",
              "      <td>1</td>\n",
              "      <td>0.02</td>\n",
              "      <td>0</td>\n",
              "      <td>T</td>\n",
              "      <td>Selection</td>\n",
              "      <td>['OrbitalCommand [3080001]']</td>\n",
              "    </tr>\n",
              "    <tr>\n",
              "      <th>3</th>\n",
              "      <td>0</td>\n",
              "      <td>1</td>\n",
              "      <td>0.02</td>\n",
              "      <td>0</td>\n",
              "      <td>T</td>\n",
              "      <td>Ability</td>\n",
              "      <td>(1360) - TrainSCV</td>\n",
              "    </tr>\n",
              "    <tr>\n",
              "      <th>4</th>\n",
              "      <td>0</td>\n",
              "      <td>1</td>\n",
              "      <td>0.14</td>\n",
              "      <td>0</td>\n",
              "      <td>T</td>\n",
              "      <td>Camera</td>\n",
              "      <td>at (142.99609375, 24.50390625)</td>\n",
              "    </tr>\n",
              "  </tbody>\n",
              "</table>\n",
              "</div>"
            ],
            "text/plain": [
              "   game_id  winner  time  ...  species      event                  event_contents\n",
              "0        0       1  0.00  ...        T     Camera         at (145.25, 21.5078125)\n",
              "1        0       1  0.00  ...        T     Camera         at (22.75, 147.0078125)\n",
              "2        0       1  0.02  ...        T  Selection    ['OrbitalCommand [3080001]']\n",
              "3        0       1  0.02  ...        T    Ability               (1360) - TrainSCV\n",
              "4        0       1  0.14  ...        T     Camera  at (142.99609375, 24.50390625)\n",
              "\n",
              "[5 rows x 7 columns]"
            ]
          },
          "metadata": {
            "tags": []
          },
          "execution_count": 2
        }
      ]
    },
    {
      "cell_type": "markdown",
      "metadata": {
        "id": "xIE0fi0sMzuD",
        "colab_type": "text"
      },
      "source": [
        "# 데이터 요약"
      ]
    },
    {
      "cell_type": "code",
      "metadata": {
        "id": "Alfd101-n3L2",
        "colab_type": "code",
        "colab": {
          "base_uri": "https://localhost:8080/",
          "height": 204
        },
        "outputId": "9d3794ef-5fbe-4951-d77f-69153cef4892"
      },
      "source": [
        "df_train = pd.DataFrame(columns=['game_id'])\n",
        "df_train.game_id = train.game_id.unique().compute()\n",
        "\n",
        "df_train.head()"
      ],
      "execution_count": 10,
      "outputs": [
        {
          "output_type": "execute_result",
          "data": {
            "text/html": [
              "<div>\n",
              "<style scoped>\n",
              "    .dataframe tbody tr th:only-of-type {\n",
              "        vertical-align: middle;\n",
              "    }\n",
              "\n",
              "    .dataframe tbody tr th {\n",
              "        vertical-align: top;\n",
              "    }\n",
              "\n",
              "    .dataframe thead th {\n",
              "        text-align: right;\n",
              "    }\n",
              "</style>\n",
              "<table border=\"1\" class=\"dataframe\">\n",
              "  <thead>\n",
              "    <tr style=\"text-align: right;\">\n",
              "      <th></th>\n",
              "      <th>game_id</th>\n",
              "    </tr>\n",
              "  </thead>\n",
              "  <tbody>\n",
              "    <tr>\n",
              "      <th>0</th>\n",
              "      <td>0</td>\n",
              "    </tr>\n",
              "    <tr>\n",
              "      <th>1</th>\n",
              "      <td>1</td>\n",
              "    </tr>\n",
              "    <tr>\n",
              "      <th>2</th>\n",
              "      <td>2</td>\n",
              "    </tr>\n",
              "    <tr>\n",
              "      <th>3</th>\n",
              "      <td>3</td>\n",
              "    </tr>\n",
              "    <tr>\n",
              "      <th>4</th>\n",
              "      <td>4</td>\n",
              "    </tr>\n",
              "  </tbody>\n",
              "</table>\n",
              "</div>"
            ],
            "text/plain": [
              "   game_id\n",
              "0        0\n",
              "1        1\n",
              "2        2\n",
              "3        3\n",
              "4        4"
            ]
          },
          "metadata": {
            "tags": []
          },
          "execution_count": 10
        }
      ]
    },
    {
      "cell_type": "markdown",
      "metadata": {
        "id": "nWhwVayaMHt9",
        "colab_type": "text"
      },
      "source": [
        "# 게임 시간 변수"
      ]
    },
    {
      "cell_type": "code",
      "metadata": {
        "id": "vZ7PnUl2MMAt",
        "colab_type": "code",
        "colab": {
          "base_uri": "https://localhost:8080/",
          "height": 204
        },
        "outputId": "0e828c04-9922-4095-c4fc-a1f5fdd89f27"
      },
      "source": [
        "df_train['time'] = np.array(train[train.shift(-1).game_id != train.game_id].time.compute())\n",
        "df_train.head()"
      ],
      "execution_count": 13,
      "outputs": [
        {
          "output_type": "execute_result",
          "data": {
            "text/html": [
              "<div>\n",
              "<style scoped>\n",
              "    .dataframe tbody tr th:only-of-type {\n",
              "        vertical-align: middle;\n",
              "    }\n",
              "\n",
              "    .dataframe tbody tr th {\n",
              "        vertical-align: top;\n",
              "    }\n",
              "\n",
              "    .dataframe thead th {\n",
              "        text-align: right;\n",
              "    }\n",
              "</style>\n",
              "<table border=\"1\" class=\"dataframe\">\n",
              "  <thead>\n",
              "    <tr style=\"text-align: right;\">\n",
              "      <th></th>\n",
              "      <th>game_id</th>\n",
              "      <th>time</th>\n",
              "    </tr>\n",
              "  </thead>\n",
              "  <tbody>\n",
              "    <tr>\n",
              "      <th>0</th>\n",
              "      <td>0</td>\n",
              "      <td>7.24</td>\n",
              "    </tr>\n",
              "    <tr>\n",
              "      <th>1</th>\n",
              "      <td>1</td>\n",
              "      <td>9.59</td>\n",
              "    </tr>\n",
              "    <tr>\n",
              "      <th>2</th>\n",
              "      <td>2</td>\n",
              "      <td>9.59</td>\n",
              "    </tr>\n",
              "    <tr>\n",
              "      <th>3</th>\n",
              "      <td>3</td>\n",
              "      <td>9.59</td>\n",
              "    </tr>\n",
              "    <tr>\n",
              "      <th>4</th>\n",
              "      <td>4</td>\n",
              "      <td>5.43</td>\n",
              "    </tr>\n",
              "  </tbody>\n",
              "</table>\n",
              "</div>"
            ],
            "text/plain": [
              "   game_id  time\n",
              "0        0  7.24\n",
              "1        1  9.59\n",
              "2        2  9.59\n",
              "3        3  9.59\n",
              "4        4  5.43"
            ]
          },
          "metadata": {
            "tags": []
          },
          "execution_count": 13
        }
      ]
    },
    {
      "cell_type": "markdown",
      "metadata": {
        "id": "mQNRMPX_NuCY",
        "colab_type": "text"
      },
      "source": [
        "# 종족 열 추가"
      ]
    },
    {
      "cell_type": "code",
      "metadata": {
        "id": "Gm_00EdTNrZN",
        "colab_type": "code",
        "colab": {
          "base_uri": "https://localhost:8080/",
          "height": 204
        },
        "outputId": "84f196dc-002d-430d-de48-3a6b6bdadf19"
      },
      "source": [
        "df = train[train.player == 0]\n",
        "df_train['p0_species'] = np.array(df[df.shift(-1).game_id != df.game_id].species.compute())\n",
        "df = train[train.player == 1]\n",
        "df_train['p1_species'] = np.array(df[df.shift(-1).game_id != df.game_id].species.compute())\n",
        "\n",
        "df_train.head()"
      ],
      "execution_count": 17,
      "outputs": [
        {
          "output_type": "execute_result",
          "data": {
            "text/html": [
              "<div>\n",
              "<style scoped>\n",
              "    .dataframe tbody tr th:only-of-type {\n",
              "        vertical-align: middle;\n",
              "    }\n",
              "\n",
              "    .dataframe tbody tr th {\n",
              "        vertical-align: top;\n",
              "    }\n",
              "\n",
              "    .dataframe thead th {\n",
              "        text-align: right;\n",
              "    }\n",
              "</style>\n",
              "<table border=\"1\" class=\"dataframe\">\n",
              "  <thead>\n",
              "    <tr style=\"text-align: right;\">\n",
              "      <th></th>\n",
              "      <th>game_id</th>\n",
              "      <th>time</th>\n",
              "      <th>p0_species</th>\n",
              "      <th>p1_species</th>\n",
              "    </tr>\n",
              "  </thead>\n",
              "  <tbody>\n",
              "    <tr>\n",
              "      <th>0</th>\n",
              "      <td>0</td>\n",
              "      <td>7.24</td>\n",
              "      <td>T</td>\n",
              "      <td>T</td>\n",
              "    </tr>\n",
              "    <tr>\n",
              "      <th>1</th>\n",
              "      <td>1</td>\n",
              "      <td>9.59</td>\n",
              "      <td>P</td>\n",
              "      <td>T</td>\n",
              "    </tr>\n",
              "    <tr>\n",
              "      <th>2</th>\n",
              "      <td>2</td>\n",
              "      <td>9.59</td>\n",
              "      <td>P</td>\n",
              "      <td>Z</td>\n",
              "    </tr>\n",
              "    <tr>\n",
              "      <th>3</th>\n",
              "      <td>3</td>\n",
              "      <td>9.59</td>\n",
              "      <td>T</td>\n",
              "      <td>P</td>\n",
              "    </tr>\n",
              "    <tr>\n",
              "      <th>4</th>\n",
              "      <td>4</td>\n",
              "      <td>5.43</td>\n",
              "      <td>T</td>\n",
              "      <td>Z</td>\n",
              "    </tr>\n",
              "  </tbody>\n",
              "</table>\n",
              "</div>"
            ],
            "text/plain": [
              "   game_id  time p0_species p1_species\n",
              "0        0  7.24          T          T\n",
              "1        1  9.59          P          T\n",
              "2        2  9.59          P          Z\n",
              "3        3  9.59          T          P\n",
              "4        4  5.43          T          Z"
            ]
          },
          "metadata": {
            "tags": []
          },
          "execution_count": 17
        }
      ]
    },
    {
      "cell_type": "markdown",
      "metadata": {
        "id": "7urwOVU2O1Wf",
        "colab_type": "text"
      },
      "source": [
        "# 이벤트 카운트 추가"
      ]
    },
    {
      "cell_type": "code",
      "metadata": {
        "id": "Vlr1seN-OkNl",
        "colab_type": "code",
        "colab": {
          "base_uri": "https://localhost:8080/",
          "height": 204
        },
        "outputId": "43d20b4e-e351-4062-e620-ebfd10428e46"
      },
      "source": [
        "df = train[train.player==0]\n",
        "df_train['event_count_0'] = np.array(df.game_id.value_counts()[df.game_id.unique()].compute())\n",
        "df = train[train.player==1]\n",
        "df_train['event_count_1'] = np.array(df.game_id.value_counts()[df.game_id.unique()].compute())\n",
        "\n",
        "df_train.head()"
      ],
      "execution_count": 18,
      "outputs": [
        {
          "output_type": "execute_result",
          "data": {
            "text/html": [
              "<div>\n",
              "<style scoped>\n",
              "    .dataframe tbody tr th:only-of-type {\n",
              "        vertical-align: middle;\n",
              "    }\n",
              "\n",
              "    .dataframe tbody tr th {\n",
              "        vertical-align: top;\n",
              "    }\n",
              "\n",
              "    .dataframe thead th {\n",
              "        text-align: right;\n",
              "    }\n",
              "</style>\n",
              "<table border=\"1\" class=\"dataframe\">\n",
              "  <thead>\n",
              "    <tr style=\"text-align: right;\">\n",
              "      <th></th>\n",
              "      <th>game_id</th>\n",
              "      <th>time</th>\n",
              "      <th>p0_species</th>\n",
              "      <th>p1_species</th>\n",
              "      <th>event_count_0</th>\n",
              "      <th>event_count_1</th>\n",
              "    </tr>\n",
              "  </thead>\n",
              "  <tbody>\n",
              "    <tr>\n",
              "      <th>0</th>\n",
              "      <td>0</td>\n",
              "      <td>7.24</td>\n",
              "      <td>T</td>\n",
              "      <td>T</td>\n",
              "      <td>592</td>\n",
              "      <td>548</td>\n",
              "    </tr>\n",
              "    <tr>\n",
              "      <th>1</th>\n",
              "      <td>1</td>\n",
              "      <td>9.59</td>\n",
              "      <td>P</td>\n",
              "      <td>T</td>\n",
              "      <td>1223</td>\n",
              "      <td>1211</td>\n",
              "    </tr>\n",
              "    <tr>\n",
              "      <th>2</th>\n",
              "      <td>2</td>\n",
              "      <td>9.59</td>\n",
              "      <td>P</td>\n",
              "      <td>Z</td>\n",
              "      <td>851</td>\n",
              "      <td>1371</td>\n",
              "    </tr>\n",
              "    <tr>\n",
              "      <th>3</th>\n",
              "      <td>3</td>\n",
              "      <td>9.59</td>\n",
              "      <td>T</td>\n",
              "      <td>P</td>\n",
              "      <td>1389</td>\n",
              "      <td>1622</td>\n",
              "    </tr>\n",
              "    <tr>\n",
              "      <th>4</th>\n",
              "      <td>4</td>\n",
              "      <td>5.43</td>\n",
              "      <td>T</td>\n",
              "      <td>Z</td>\n",
              "      <td>966</td>\n",
              "      <td>651</td>\n",
              "    </tr>\n",
              "  </tbody>\n",
              "</table>\n",
              "</div>"
            ],
            "text/plain": [
              "   game_id  time p0_species p1_species  event_count_0  event_count_1\n",
              "0        0  7.24          T          T            592            548\n",
              "1        1  9.59          P          T           1223           1211\n",
              "2        2  9.59          P          Z            851           1371\n",
              "3        3  9.59          T          P           1389           1622\n",
              "4        4  5.43          T          Z            966            651"
            ]
          },
          "metadata": {
            "tags": []
          },
          "execution_count": 18
        }
      ]
    },
    {
      "cell_type": "markdown",
      "metadata": {
        "id": "Em2uyVCAPB6H",
        "colab_type": "text"
      },
      "source": [
        "# 이벤트별 카운트 열 추가\n",
        "이벤트 없을 시 결측치가 발생하여 데이터프레임 병합 후 결측치 0으로 채움"
      ]
    },
    {
      "cell_type": "code",
      "metadata": {
        "id": "bGiw6VyOPBII",
        "colab_type": "code",
        "colab": {}
      },
      "source": [
        "for event in train.event.unique():\n",
        "    df = train[(train.player==0)&(train.event==event)]\n",
        "    df = pd.DataFrame(df.game_id.value_counts()[df.game_id.unique()]).rename({'game_id':event+'_count_0'}, axis = 1)\n",
        "    df['game_id']= np.array(df.index)\n",
        "    df_train = pd.merge(df_train, df, on='game_id', how='left')\n",
        "\n",
        "    df = train[(train.player==1)&(train.event==event)]\n",
        "    df = pd.DataFrame(df.game_id.value_counts()[df.game_id.unique()]).rename({'game_id':event+'_count_1'}, axis = 1)\n",
        "    df['game_id']= np.array(df.index)\n",
        "    df_train = pd.merge(df_train, df, on='game_id', how='left')\n",
        "df_train = df_train.fillna(0)"
      ],
      "execution_count": 0,
      "outputs": []
    }
  ]
}